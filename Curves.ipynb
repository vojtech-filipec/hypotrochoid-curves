{
 "cells": [
  {
   "cell_type": "code",
   "execution_count": 18,
   "id": "2564c17a",
   "metadata": {},
   "outputs": [],
   "source": [
    "# pip list\n",
    "\n",
    "# import sys\n",
    "# sys.executable\n",
    "\n",
    "# sys.version"
   ]
  },
  {
   "cell_type": "code",
   "execution_count": 19,
   "id": "4c7f6bf0",
   "metadata": {},
   "outputs": [],
   "source": [
    "import math\n",
    "import numpy as np\n",
    "import matplotlib.pyplot as plt\n",
    "import random\n",
    "import os"
   ]
  },
  {
   "cell_type": "markdown",
   "id": "bbdd7243",
   "metadata": {},
   "source": [
    "# Hypotrochoid curves\n",
    "\n",
    "Implementation follows the parametric formulae which are are due https://en.wikipedia.org/wiki/Hypotrochoid:\n",
    "> A hypotrochoid is a roulette traced by a point attached to a circle of radius **r** rolling around the inside of a fixed circle of radius **R**, where the point is a distance **d** from the center of the interior circle. \n",
    "\n",
    "Provide these parameters:"
   ]
  },
  {
   "cell_type": "code",
   "execution_count": 20,
   "id": "52224f69",
   "metadata": {},
   "outputs": [],
   "source": [
    "def get_x(R, r, d, phi):\n",
    "    return (R-r)*math.cos(phi) + d*math.cos(phi*(R-r)/r)\n",
    "\n",
    "def get_y(R, r, d, phi):\n",
    "    return (R-r)*math.sin(phi) - d*math.sin(phi*(R-r)/r)\n",
    "    \n",
    "# find the smallest common multiple\n",
    "# in Python 3.8 there is no math.lcm -> use numpy\n",
    "# multip = np.lcm(r, R)\n",
    "# print(multip)    "
   ]
  },
  {
   "cell_type": "code",
   "execution_count": 21,
   "id": "bc54e125",
   "metadata": {},
   "outputs": [],
   "source": [
    "def prepare_curve_data(R,r,d,steps=200):\n",
    "    \"\"\"\n",
    "    steps ... how many points are plotted; smaller value creates a smoother pattern with larger size\n",
    "    \"\"\"\n",
    "    multip = np.lcm(r, R)\n",
    "    phi_grid_rad = np.linspace(0, 2*math.pi*multip/R, steps)\n",
    "    #phi_grid_deg = [math.degrees(phi) for phi in phi_grid_rad]\n",
    "    coord_x = [get_x(R,r,d,phi_val) for phi_val in phi_grid_rad]\n",
    "    coord_y = [get_y(R,r,d,phi_val) for phi_val in phi_grid_rad]\n",
    "    return (coord_x, coord_y)"
   ]
  },
  {
   "cell_type": "code",
   "execution_count": 22,
   "id": "4005b5a6",
   "metadata": {},
   "outputs": [],
   "source": [
    "# Voila app"
   ]
  },
  {
   "cell_type": "code",
   "execution_count": 33,
   "id": "8d4ef701",
   "metadata": {},
   "outputs": [],
   "source": [
    "# TODO: only allow integers with some reasonable range (integer -> easy to find the smallest comon multiple)\n",
    "list_R = range(5,15)\n",
    "list_r = range(1,14)\n",
    "list_d = range(3,13)"
   ]
  },
  {
   "cell_type": "code",
   "execution_count": 24,
   "id": "8cbcb41e",
   "metadata": {},
   "outputs": [],
   "source": [
    "#!pip install markdown"
   ]
  },
  {
   "cell_type": "code",
   "execution_count": 25,
   "id": "d3bacc39",
   "metadata": {},
   "outputs": [],
   "source": [
    "import ipywidgets as widgets\n",
    "#from IPython.display import display\n",
    "from ipywidgets import * # HBox, VBox, Layout, HTML\n",
    "#import markdown"
   ]
  },
  {
   "cell_type": "code",
   "execution_count": 40,
   "id": "c0771643",
   "metadata": {},
   "outputs": [],
   "source": [
    "sel_R = widgets.RadioButtons(\n",
    "    options = list_R,\n",
    "    description='R:',\n",
    "    disabled=False,\n",
    "    value = random.choice(list_R)\n",
    ")\n",
    "\n",
    "sel_r = widgets.RadioButtons(\n",
    "    options = list_r,\n",
    "    description='r:',\n",
    "    disabled=False,\n",
    "    value = random.choice(list_r)\n",
    ")\n",
    "\n",
    "sel_d = widgets.RadioButtons(\n",
    "    options = list_d,\n",
    "    description='d:',\n",
    "    disabled=False,\n",
    "    value = random.choice(list_d)\n",
    ")"
   ]
  },
  {
   "cell_type": "code",
   "execution_count": 41,
   "id": "435385c2",
   "metadata": {},
   "outputs": [],
   "source": [
    "def plot_the_curve(curve_data, title=None, filename=None):\n",
    "    x_data = curve_data[0]\n",
    "    y_data = curve_data[1]\n",
    "    max_value = 1.1*max(max(x_data, key=abs), max(y_data, key=abs))\n",
    "\n",
    "    fig, ax = plt.subplots(figsize=(10, 10))\n",
    "    ax.set_xlim([-max_value, max_value])\n",
    "    ax.set_ylim(ax.get_xlim())\n",
    "    ax.set_axis_off()\n",
    "    # plt.scatter(x=x_data, y=y_data)\n",
    "    #display(plt.plot(x_data, y_data, '--'))\n",
    "    plt.plot(x_data, y_data, '--')\n",
    "    if title:\n",
    "        plt.title(title)\n",
    "    if filename:\n",
    "        # disable as it makes Binder fail\n",
    "        pass\n",
    "        #os.makedirs(\"saved_curves\", exist_ok=True)\n",
    "        #plt.savefig(os.path.join(\"saved_curves\", filename), bbox_inches='tight')\n",
    "        \n",
    "    # For voila and matplotlib to work properly (i.e. replace the existing plot, rather than appending) the show() must be used.\n",
    "    plt.show()"
   ]
  },
  {
   "cell_type": "code",
   "execution_count": 42,
   "id": "aa79994f",
   "metadata": {},
   "outputs": [
    {
     "data": {
      "application/vnd.jupyter.widget-view+json": {
       "model_id": "1ebbf799eeee463f80baff26025b63c2",
       "version_major": 2,
       "version_minor": 0
      },
      "text/plain": [
       "Output()"
      ]
     },
     "metadata": {},
     "output_type": "display_data"
    }
   ],
   "source": [
    "button = widgets.Button(description=\"Plot the curve\") #, layout=Layout(width='20%'))\n",
    "\n",
    "\n",
    "output = widgets.Output() #layout=Layout(width='20%'))\n",
    "display(output)\n",
    "\n",
    "def on_button_clicked(button):\n",
    "    with output:\n",
    "        output.clear_output()\n",
    "        \n",
    "        R = sel_R.value\n",
    "        r = sel_r.value\n",
    "        d = sel_d.value\n",
    "\n",
    "        curve_data = prepare_curve_data(R,r,d)\n",
    "        ttl = f\"R={R}, r={r}, d={d}\"\n",
    "        filename = f\"curve__R_{R}__r_{r}__d_{d}.png\"\n",
    "        plot_the_curve(curve_data, title=ttl, filename=filename)\n",
    "        \n",
    "button.on_click(on_button_clicked)"
   ]
  },
  {
   "cell_type": "code",
   "execution_count": 29,
   "id": "f20a61c4",
   "metadata": {},
   "outputs": [
    {
     "data": {
      "application/vnd.jupyter.widget-view+json": {
       "model_id": "96e6f66eb7024fc4b5013bb4be077584",
       "version_major": 2,
       "version_minor": 0
      },
      "text/plain": [
       "HBox(children=(RadioButtons(description='R:', index=7, options=(5, 6, 7, 8, 9, 10, 11, 12), value=12), RadioBu…"
      ]
     },
     "execution_count": 29,
     "metadata": {},
     "output_type": "execute_result"
    }
   ],
   "source": [
    "HBox([sel_R, sel_r, sel_d, button])"
   ]
  },
  {
   "cell_type": "code",
   "execution_count": 30,
   "id": "24a38f6c",
   "metadata": {},
   "outputs": [],
   "source": [
    "# PLOTTING DISABLED DUE TO VOILA\n",
    "\n",
    "# fig, ax = plt.subplots(figsize=(10, 10))\n",
    "# ax.set_xlim([-max_value, max_value])\n",
    "# ax.set_ylim(ax.get_xlim())\n",
    "# ax.set_axis_off()\n",
    "\n",
    "# plt.plot(x_data, y_data, '--')\n",
    "# plt.savefig('aaa.png', format='png')"
   ]
  },
  {
   "cell_type": "markdown",
   "id": "d1129f9c",
   "metadata": {},
   "source": [
    "These are special cases: \n",
    "\n",
    "* a straight line: R = 6, r = 3, d = 3\n",
    "* a circle: R = 6, r = 3, d = 0\n",
    "* a point: R = r\n",
    "* an elipsis: R = 2$\\cdot$r"
   ]
  },
  {
   "cell_type": "code",
   "execution_count": null,
   "id": "efd6e5ae",
   "metadata": {},
   "outputs": [],
   "source": []
  },
  {
   "cell_type": "markdown",
   "id": "958e18f9",
   "metadata": {},
   "source": [
    "# Saving"
   ]
  },
  {
   "cell_type": "code",
   "execution_count": 31,
   "id": "9569a972",
   "metadata": {},
   "outputs": [],
   "source": [
    "#%pwd\n",
    "#outfile = \"_\".join(['example', str(R), str(r), str(d)])+'.png'\n",
    "# steps = 200 # how many points are plotted; smaller value creates a smoother pattern with larger size\n"
   ]
  },
  {
   "cell_type": "markdown",
   "id": "f50bcc91",
   "metadata": {},
   "source": [
    "# Testing "
   ]
  },
  {
   "cell_type": "code",
   "execution_count": 32,
   "id": "a018ac99",
   "metadata": {
    "scrolled": false
   },
   "outputs": [],
   "source": [
    "\n",
    "# for R in list_R:\n",
    "#     for r in list_r:\n",
    "#         for d in list_d:\n",
    "#             if (R == r) | (d==0) | (R != 2*r):\n",
    "#                 pass\n",
    "#             else:\n",
    "#                 curve_data = prepare_curve_data(R,r,d)\n",
    "#                 ttl = f\"R={R}, r={r}, d={d}\"\n",
    "#                 plot_the_curve(curve_data, title=ttl)"
   ]
  },
  {
   "cell_type": "code",
   "execution_count": null,
   "id": "e5dea2ee",
   "metadata": {},
   "outputs": [],
   "source": []
  },
  {
   "cell_type": "code",
   "execution_count": null,
   "id": "b254df12",
   "metadata": {},
   "outputs": [],
   "source": []
  }
 ],
 "metadata": {
  "kernelspec": {
   "display_name": "curves",
   "language": "python",
   "name": "curves"
  },
  "language_info": {
   "codemirror_mode": {
    "name": "ipython",
    "version": 3
   },
   "file_extension": ".py",
   "mimetype": "text/x-python",
   "name": "python",
   "nbconvert_exporter": "python",
   "pygments_lexer": "ipython3",
   "version": "3.8.16"
  },
  "varInspector": {
   "cols": {
    "lenName": 16,
    "lenType": 16,
    "lenVar": 40
   },
   "kernels_config": {
    "python": {
     "delete_cmd_postfix": "",
     "delete_cmd_prefix": "del ",
     "library": "var_list.py",
     "varRefreshCmd": "print(var_dic_list())"
    },
    "r": {
     "delete_cmd_postfix": ") ",
     "delete_cmd_prefix": "rm(",
     "library": "var_list.r",
     "varRefreshCmd": "cat(var_dic_list()) "
    }
   },
   "types_to_exclude": [
    "module",
    "function",
    "builtin_function_or_method",
    "instance",
    "_Feature"
   ],
   "window_display": false
  }
 },
 "nbformat": 4,
 "nbformat_minor": 5
}
