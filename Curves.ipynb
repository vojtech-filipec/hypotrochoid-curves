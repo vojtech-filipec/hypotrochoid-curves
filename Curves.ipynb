{
 "cells": [
  {
   "cell_type": "code",
   "execution_count": 1,
   "id": "2564c17a",
   "metadata": {},
   "outputs": [],
   "source": [
    "# pip list\n",
    "\n",
    "# import sys\n",
    "# sys.executable\n",
    "\n",
    "# sys.version"
   ]
  },
  {
   "cell_type": "markdown",
   "id": "bbdd7243",
   "metadata": {},
   "source": [
    "# Hypotrochoid curves\n",
    "\n",
    "Implementation follows the parametric formulae which are are due https://en.wikipedia.org/wiki/Hypotrochoid:\n",
    "> A hypotrochoid is a roulette traced by a point attached to a circle of radius **r** rolling around the inside of a fixed circle of radius **R**, where the point is a distance **d** from the center of the interior circle. \n",
    "\n",
    "Provide these parameters:"
   ]
  },
  {
   "cell_type": "code",
   "execution_count": 4,
   "id": "4c7f6bf0",
   "metadata": {},
   "outputs": [],
   "source": [
    "import math\n",
    "import numpy as np\n",
    "import matplotlib.pyplot as plt"
   ]
  },
  {
   "cell_type": "code",
   "execution_count": 5,
   "id": "52224f69",
   "metadata": {},
   "outputs": [],
   "source": [
    "def get_x(R, r, d, phi):\n",
    "    return (R-r)*math.cos(phi) + d*math.cos(phi*(R-r)/r)\n",
    "\n",
    "def get_y(R, r, d, phi):\n",
    "    return (R-r)*math.sin(phi) - d*math.sin(phi*(R-r)/r)\n",
    "    \n",
    "# find the smallest common multiple\n",
    "# in Python 3.8 there is no math.lcm -> use numpy\n",
    "# multip = np.lcm(r, R)\n",
    "# print(multip)    "
   ]
  },
  {
   "cell_type": "code",
   "execution_count": 6,
   "id": "33121280",
   "metadata": {},
   "outputs": [],
   "source": [
    "# phi_grid = np.linspace(0, 2*math.pi*multip/R, steps)\n",
    "# phi_grid[-1:]\n",
    "\n",
    "# coord_x = [get_x(R,r,d,phi_val) for phi_val in phi_grid]\n",
    "# coord_y = [get_y(R,r,d,phi_val) for phi_val in phi_grid]"
   ]
  },
  {
   "cell_type": "code",
   "execution_count": 7,
   "id": "6482de20",
   "metadata": {},
   "outputs": [],
   "source": [
    "# phi_grid_rad = np.linspace(0, 2*math.pi*5, steps)\n",
    "# phi_grid_deg = [math.degrees(phi) for phi in phi_grid_rad]"
   ]
  },
  {
   "cell_type": "code",
   "execution_count": 8,
   "id": "bc54e125",
   "metadata": {},
   "outputs": [],
   "source": [
    "def prepare_curve_data(R,r,d):\n",
    "    multip = np.lcm(r, R)\n",
    "    phi_grid_rad = np.linspace(0, 2*math.pi*multip/R, steps)\n",
    "    #phi_grid_deg = [math.degrees(phi) for phi in phi_grid_rad]\n",
    "    coord_x = [get_x(R,r,d,phi_val) for phi_val in phi_grid_rad]\n",
    "    coord_y = [get_y(R,r,d,phi_val) for phi_val in phi_grid_rad]\n",
    "    return (coord_x, coord_y)"
   ]
  },
  {
   "cell_type": "markdown",
   "id": "4f615de6",
   "metadata": {},
   "source": []
  },
  {
   "cell_type": "code",
   "execution_count": 9,
   "id": "ea98d2ff",
   "metadata": {},
   "outputs": [],
   "source": [
    "# # line\n",
    "# R = 6\n",
    "# r = 3\n",
    "# d = 3\n",
    "\n",
    "# # circle\n",
    "# R = 6\n",
    "# r = 3\n",
    "# d = 0\n",
    "\n",
    "# R = 3 \n",
    "# r = 4 \n",
    "# d = 1 \n",
    "\n",
    "R = 8 # large circle\n",
    "r = 5  # small circle\n",
    "d = 4 # distance from the center of the interior circle (0 ... in its center; r ... at the circle; >r ... outside of it)\n",
    "\n",
    "%pwd\n",
    "outfile = \"_\".join(['example', str(R), str(r), str(d)])+'.png'\n",
    "steps = 200 # how many points are plotted; smaller value creates a smoother pattern with larger size\n",
    "\n",
    "curve_data = prepare_curve_data(R,r,d)\n",
    "\n",
    "x_data = curve_data[0]\n",
    "y_data = curve_data[1]\n",
    "max_value = 1.1*max(max(x_data, key=abs), max(y_data, key=abs))\n"
   ]
  },
  {
   "cell_type": "code",
   "execution_count": 10,
   "id": "f40448ea",
   "metadata": {},
   "outputs": [],
   "source": [
    "# PLOTTING DISABLED DUE TO VOILA\n",
    "\n",
    "# fig, ax = plt.subplots(figsize=(10, 10))\n",
    "# ax.set_xlim([-max_value, max_value])\n",
    "# ax.set_ylim(ax.get_xlim())\n",
    "# ax.set_axis_off()\n",
    "\n",
    "# plt.plot(x_data, y_data, '--')\n",
    "# plt.savefig(outfile, format='png')"
   ]
  },
  {
   "cell_type": "code",
   "execution_count": 24,
   "id": "4005b5a6",
   "metadata": {},
   "outputs": [],
   "source": [
    "# Voila app"
   ]
  },
  {
   "cell_type": "code",
   "execution_count": 23,
   "id": "8d4ef701",
   "metadata": {},
   "outputs": [],
   "source": [
    "# TODO: only allow integers with some reasonable range (integer -> easy to find the smallest comon multiple)\n",
    "# TEMPORARY: the selection is limited\n",
    "\n",
    "list_R = range(5,13)\n",
    "list_r = range(1,10)\n",
    "list_d = range(0,10)"
   ]
  },
  {
   "cell_type": "code",
   "execution_count": 12,
   "id": "8cbcb41e",
   "metadata": {},
   "outputs": [],
   "source": [
    "#!pip install markdown"
   ]
  },
  {
   "cell_type": "code",
   "execution_count": 13,
   "id": "d3bacc39",
   "metadata": {},
   "outputs": [],
   "source": [
    "import ipywidgets as widgets\n",
    "from IPython.display import display\n",
    "from ipywidgets import HBox, VBox, Layout, HTML\n",
    "import markdown"
   ]
  },
  {
   "cell_type": "code",
   "execution_count": 14,
   "id": "c0771643",
   "metadata": {},
   "outputs": [],
   "source": [
    "sel_R = widgets.RadioButtons(\n",
    "    options = list_R,\n",
    "    description='R:',\n",
    "    disabled=False,\n",
    "    value = list_R[-1]\n",
    ")\n",
    "\n",
    "sel_r = widgets.RadioButtons(\n",
    "    options = list_r,\n",
    "    description='r:',\n",
    "    disabled=False,\n",
    "    value = list_r[-1]\n",
    ")\n",
    "\n",
    "sel_d = widgets.RadioButtons(\n",
    "    options = list_d,\n",
    "    description='d:',\n",
    "    disabled=False,\n",
    "    value = list_d[-1]\n",
    ")"
   ]
  },
  {
   "cell_type": "code",
   "execution_count": 15,
   "id": "7ce79837",
   "metadata": {
    "scrolled": true
   },
   "outputs": [
    {
     "data": {
      "application/vnd.jupyter.widget-view+json": {
       "model_id": "29f5310d0fcc4b73b852030546b4a868",
       "version_major": 2,
       "version_minor": 0
      },
      "text/plain": [
       "HTML(value='<p>A hypotrochoid is a roulette traced by a point attached to a circle of radius <em>r</em> rollin…"
      ]
     },
     "metadata": {},
     "output_type": "display_data"
    }
   ],
   "source": [
    "# MSG = 'A hypotrochoid is a roulette traced by a point attached to a circle of radius _r_ rolling around the inside of a fixed circle of radius _R_, where the point is a distance _d_ from the center of the interior circle.'\n",
    "# MSG_html = markdown.markdown(\"\"\"{text}\"\"\".format(text=MSG)) #conversion of markdown -> HTML here\n",
    "# display(HTML(MSG_html))"
   ]
  },
  {
   "cell_type": "code",
   "execution_count": 16,
   "id": "f20a61c4",
   "metadata": {},
   "outputs": [
    {
     "data": {
      "application/vnd.jupyter.widget-view+json": {
       "model_id": "26c1aca2f17e47a484069027ea7d5d01",
       "version_major": 2,
       "version_minor": 0
      },
      "text/plain": [
       "HBox(children=(RadioButtons(description='R:', index=7, options=(5, 6, 7, 8, 9, 10, 11, 12), value=12), RadioBu…"
      ]
     },
     "metadata": {},
     "output_type": "display_data"
    }
   ],
   "source": [
    "HBox([sel_R, sel_r, sel_d])"
   ]
  },
  {
   "cell_type": "code",
   "execution_count": 18,
   "id": "bd0c6dc6",
   "metadata": {},
   "outputs": [],
   "source": [
    "# from IPython.display import display, clear_output"
   ]
  },
  {
   "cell_type": "code",
   "execution_count": 22,
   "id": "aa79994f",
   "metadata": {},
   "outputs": [
    {
     "data": {
      "application/vnd.jupyter.widget-view+json": {
       "model_id": "ea769c44f4e4451c8686ea0713dc9d3e",
       "version_major": 2,
       "version_minor": 0
      },
      "text/plain": [
       "Button(description='Plot the curve', style=ButtonStyle())"
      ]
     },
     "metadata": {},
     "output_type": "display_data"
    },
    {
     "data": {
      "application/vnd.jupyter.widget-view+json": {
       "model_id": "17225bfd21ea4a60b6ec0a0c75cd52b0",
       "version_major": 2,
       "version_minor": 0
      },
      "text/plain": [
       "Output()"
      ]
     },
     "metadata": {},
     "output_type": "display_data"
    }
   ],
   "source": [
    "button = widgets.Button(description=\"Plot the curve\") #, layout=Layout(width='20%'))\n",
    "display(button)\n",
    "\n",
    "output = widgets.Output() #layout=Layout(width='20%'))\n",
    "display(output)\n",
    "\n",
    "def on_button_clicked(button):\n",
    "    with output:\n",
    "        output.clear_output()\n",
    "        \n",
    "        R = sel_R.value\n",
    "        r = sel_r.value\n",
    "        d = sel_d.value\n",
    "\n",
    "        steps = 200 # how many points are plotted; smaller value creates a smoother pattern with larger size\n",
    "\n",
    "        curve_data = prepare_curve_data(R,r,d)\n",
    "        x_data = curve_data[0]\n",
    "        y_data = curve_data[1]\n",
    "        max_value = 1.1*max(max(x_data, key=abs), max(y_data, key=abs))\n",
    "\n",
    "        fig, ax = plt.subplots(figsize=(10, 10))\n",
    "        ax.set_xlim([-max_value, max_value])\n",
    "        ax.set_ylim(ax.get_xlim())\n",
    "        ax.set_axis_off()\n",
    "        # plt.scatter(x=x_data, y=y_data)\n",
    "        #display(plt.plot(x_data, y_data, '--'))\n",
    "        plt.plot(x_data, y_data, '--')\n",
    "        # For voila and matplotlib to work properly (i.e. replace the existing plot, rather than appending) the show() must be used.\n",
    "        plt.show()\n",
    "\n",
    "        # plt.savefig(outfile, format='png')        \n",
    "        #display(oneclient.rename(index=str, columns={'MSISDN':'number'}).set_index('number').transpose())\n",
    "        \n",
    "button.on_click(on_button_clicked)"
   ]
  },
  {
   "cell_type": "markdown",
   "id": "d1129f9c",
   "metadata": {},
   "source": [
    "You can try a few special cases: \n",
    "\n",
    "* a straight line: R = 6, r = 3, d = 3\n",
    "* a circle: R = 6, r = 3, d = 0"
   ]
  },
  {
   "cell_type": "code",
   "execution_count": null,
   "id": "efd6e5ae",
   "metadata": {},
   "outputs": [],
   "source": []
  }
 ],
 "metadata": {
  "kernelspec": {
   "display_name": "curves",
   "language": "python",
   "name": "curves"
  },
  "language_info": {
   "codemirror_mode": {
    "name": "ipython",
    "version": 3
   },
   "file_extension": ".py",
   "mimetype": "text/x-python",
   "name": "python",
   "nbconvert_exporter": "python",
   "pygments_lexer": "ipython3",
   "version": "3.8.13"
  }
 },
 "nbformat": 4,
 "nbformat_minor": 5
}
